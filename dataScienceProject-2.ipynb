{
 "cells": [
  {
   "cell_type": "code",
   "execution_count": null,
   "metadata": {},
   "outputs": [],
   "source": []
  },
  {
   "cell_type": "code",
   "execution_count": 95,
   "metadata": {},
   "outputs": [],
   "source": [
    "import csv\n",
    "import collections\n",
    "import itertools\n",
    "import nltk\n",
    "from nltk.corpus import stopwords\n",
    "sw = stopwords.words('english')\n",
    "sw.append('gitsvnid')\n",
    "from nltk.stem import PorterStemmer\n",
    "ps = PorterStemmer()\n",
    "import string\n",
    "import matplotlib.pyplot as plt\n",
    "import numpy as np\n",
    "plt.rcParams['figure.figsize'] = [15, 10]"
   ]
  },
  {
   "cell_type": "code",
   "execution_count": 96,
   "metadata": {},
   "outputs": [],
   "source": [
    "def clean_text(words):\n",
    "    #convert to lower case\n",
    "    words = [w.lower() for w in words]\n",
    "    #remove links, hashcode, etc. based on their length\n",
    "    words = [w for w in words if len(w) < 20]\n",
    "    #remove punctuation\n",
    "    for i in range(len(words)):\n",
    "        words[i] = words[i].translate(str.maketrans('', '', string.punctuation))\n",
    "    #remove empty string\n",
    "    words = [w for w in words if len(w) > 0]\n",
    "    #remove stop words\n",
    "    words = [w for w in words if w not in sw]\n",
    "    #remove words contain numbers since they normally are not meaningful\n",
    "    words = [w for w in words if not any(l.isdigit() for l in w)]\n",
    "    return words"
   ]
  },
  {
   "cell_type": "code",
   "execution_count": 97,
   "metadata": {},
   "outputs": [],
   "source": [
    "def find_keywords(list1, list2, n):\n",
    "    #n is the number of keywords\n",
    "    counter1 = collections.Counter(list1)\n",
    "    counter2 = collections.Counter(list2)\n",
    "    dict1 = counter1.most_common(n)\n",
    "    dict2 = counter2.most_common(n)\n",
    "    keywords1 = [tupel[0] for tupel in dict1]\n",
    "    keywords2 = [tupel[0] for tupel in dict2]\n",
    "    keywords = list(set(keywords1 + keywords2))\n",
    "    #find the stem of keywords (plurals, participles)\n",
    "    keywords_stem = []\n",
    "    for w in keywords:\n",
    "        if ps.stem(w) not in keywords_stem:\n",
    "            keywords_stem.append(ps.stem(w))\n",
    "    return keywords_stem"
   ]
  },
  {
   "cell_type": "code",
   "execution_count": 98,
   "metadata": {},
   "outputs": [],
   "source": [
    "def is_element(word, sentence):\n",
    "    words = sentence.split()\n",
    "    stemming_words = [ps.stem(w) for w in words]\n",
    "    if ps.stem(word) in stemming_words:\n",
    "        return True\n",
    "    else:\n",
    "        return False"
   ]
  },
  {
   "cell_type": "code",
   "execution_count": 99,
   "metadata": {},
   "outputs": [],
   "source": [
    "def count_frequency(word, words_list):\n",
    "    n = len(words_list)\n",
    "    occ = 0.0\n",
    "    for w in words_list:\n",
    "        if ps.stem(w) == word:\n",
    "            occ = occ + 1\n",
    "    frq = occ / n\n",
    "    return frq"
   ]
  },
  {
   "cell_type": "code",
   "execution_count": 100,
   "metadata": {},
   "outputs": [],
   "source": [
    "def test(message, keywords, frq_quality, frq_not_quality):\n",
    "    words = message.split()\n",
    "    eff_words = clean_text(words)\n",
    "    p_quality = 0\n",
    "    p_not_quality = 0\n",
    "    for i in eff_words:\n",
    "        if i in keywords:\n",
    "            p_quality = p_quality + frq_quality[keywords.index(i)]\n",
    "            p_not_quality = p_not_quality + frq_not_quality[keywords.index(i)]\n",
    "    if p_quality > p_not_quality:\n",
    "        return True\n",
    "    else:\n",
    "        return False"
   ]
  },
  {
   "cell_type": "code",
   "execution_count": 101,
   "metadata": {
    "scrolled": true
   },
   "outputs": [],
   "source": [
    "#load in data and distribute marked commits into two lists. \n",
    "#One list contains the messages of commits which improve internal quality, \n",
    "#the other contains those of commits which are not meant for internal quality improving."
   ]
  },
  {
   "cell_type": "code",
   "execution_count": 102,
   "metadata": {},
   "outputs": [],
   "source": [
    "commits_quality_all = []\n",
    "commits_not_quality_all = []"
   ]
  },
  {
   "cell_type": "code",
   "execution_count": 103,
   "metadata": {},
   "outputs": [],
   "source": [
    "with open(\"output_320000.csv\", 'r', encoding='UTF-8') as f:\n",
    "    reader = csv.reader(f)\n",
    "    for row in reader:\n",
    "        if (row[-1] == 'True'):\n",
    "            commits_quality_all.append(row[1])\n",
    "        if (row[-1] == 'False'):\n",
    "            commits_not_quality_all.append(row[1])"
   ]
  },
  {
   "cell_type": "code",
   "execution_count": 104,
   "metadata": {},
   "outputs": [],
   "source": [
    "#N = 100"
   ]
  },
  {
   "cell_type": "code",
   "execution_count": 105,
   "metadata": {},
   "outputs": [],
   "source": [
    "N = 20"
   ]
  },
  {
   "cell_type": "code",
   "execution_count": 106,
   "metadata": {},
   "outputs": [],
   "source": [
    "#Select N messages (samples) for feature extraction randomly. \n",
    "#The others will be used for parameter optimization and performance assessment."
   ]
  },
  {
   "cell_type": "code",
   "execution_count": 107,
   "metadata": {},
   "outputs": [],
   "source": [
    "index_quality_sample = np.random.randint(len(commits_quality_all),size = N)\n",
    "index_quality_test = np.array([i for i in np.arange(len(commits_quality_all)) if i not in index_quality_sample])\n",
    "index_not_quality_sample = np.random.randint(len(commits_not_quality_all), size = N)\n",
    "index_not_quality_test = np.array([i for i in np.arange(len(commits_not_quality_all)) if i not in index_not_quality_sample])"
   ]
  },
  {
   "cell_type": "code",
   "execution_count": 108,
   "metadata": {},
   "outputs": [],
   "source": [
    "commits_quality = [commits_quality_all[i] for i in index_quality_sample]\n",
    "commits_not_quality = [commits_not_quality_all[i] for i in index_not_quality_sample]"
   ]
  },
  {
   "cell_type": "code",
   "execution_count": 109,
   "metadata": {},
   "outputs": [],
   "source": [
    "#Create a list of all words in  all messages."
   ]
  },
  {
   "cell_type": "code",
   "execution_count": 110,
   "metadata": {},
   "outputs": [],
   "source": [
    "words_quality = list(itertools.chain(*[commit.split() for commit in commits_quality]))\n",
    "words_not_quality = list(itertools.chain(*[commit.split() for commit in commits_not_quality]))"
   ]
  },
  {
   "cell_type": "code",
   "execution_count": 111,
   "metadata": {},
   "outputs": [],
   "source": [
    "#Some clean up (punctuation, stop words, etc.)."
   ]
  },
  {
   "cell_type": "code",
   "execution_count": 112,
   "metadata": {},
   "outputs": [],
   "source": [
    "eff_words_quality = clean_text(words_quality)\n",
    "eff_words_not_quality = clean_text(words_not_quality)"
   ]
  },
  {
   "cell_type": "markdown",
   "metadata": {},
   "source": [
    "An example to demonstrate decision tree"
   ]
  },
  {
   "cell_type": "code",
   "execution_count": 113,
   "metadata": {},
   "outputs": [],
   "source": [
    "samples = commits_quality + commits_not_quality\n",
    "values = np.concatenate((np.ones(N), np.zeros(N)))"
   ]
  },
  {
   "cell_type": "code",
   "execution_count": 114,
   "metadata": {},
   "outputs": [],
   "source": [
    "n_keywords = 40"
   ]
  },
  {
   "cell_type": "code",
   "execution_count": 115,
   "metadata": {},
   "outputs": [],
   "source": [
    "keywords = find_keywords(eff_words_quality, eff_words_not_quality, n_keywords)"
   ]
  },
  {
   "cell_type": "markdown",
   "metadata": {},
   "source": [
    "Training Matrix"
   ]
  },
  {
   "cell_type": "code",
   "execution_count": 116,
   "metadata": {},
   "outputs": [],
   "source": [
    "training_matrix = np.zeros((2 * N, len(keywords)))\n",
    "for i in range(2 * N):\n",
    "    for j in range(len(keywords)):\n",
    "        if is_element(keywords[j], samples[i]):\n",
    "            training_matrix[i][j] = 1"
   ]
  },
  {
   "cell_type": "markdown",
   "metadata": {},
   "source": [
    "form decision tree"
   ]
  },
  {
   "cell_type": "code",
   "execution_count": 125,
   "metadata": {},
   "outputs": [],
   "source": [
    "from sklearn.datasets import load_iris\n",
    "from sklearn.tree import DecisionTreeClassifier, export_graphviz"
   ]
  },
  {
   "cell_type": "code",
   "execution_count": 126,
   "metadata": {},
   "outputs": [],
   "source": [
    "iris = load_iris()\n",
    "x = iris.data[:, 2:]\n",
    "y = iris.target"
   ]
  },
  {
   "cell_type": "code",
   "execution_count": 127,
   "metadata": {},
   "outputs": [
    {
     "data": {
      "text/plain": [
       "DecisionTreeClassifier(max_depth=2)"
      ]
     },
     "execution_count": 127,
     "metadata": {},
     "output_type": "execute_result"
    }
   ],
   "source": [
    "tree_clf = DecisionTreeClassifier(max_depth = 2)\n",
    "tree_clf.fit(x, y)"
   ]
  },
  {
   "cell_type": "code",
   "execution_count": 131,
   "metadata": {},
   "outputs": [],
   "source": []
  },
  {
   "cell_type": "code",
   "execution_count": null,
   "metadata": {},
   "outputs": [],
   "source": []
  },
  {
   "cell_type": "code",
   "execution_count": 136,
   "metadata": {},
   "outputs": [],
   "source": [
    "export_graphviz( tree_clf, \n",
    "                out_file=\"iris_tree.dot\",\n",
    "                feature_names=iris.feature_names[2:], \n",
    "                class_names=iris.target_names, \n",
    "                rounded=True, \n",
    "                filled=True)"
   ]
  },
  {
   "cell_type": "code",
   "execution_count": null,
   "metadata": {},
   "outputs": [],
   "source": []
  },
  {
   "cell_type": "code",
   "execution_count": null,
   "metadata": {},
   "outputs": [],
   "source": []
  },
  {
   "cell_type": "code",
   "execution_count": null,
   "metadata": {},
   "outputs": [],
   "source": []
  },
  {
   "cell_type": "code",
   "execution_count": 137,
   "metadata": {},
   "outputs": [],
   "source": [
    "x = training_matrix\n",
    "y = values"
   ]
  },
  {
   "cell_type": "code",
   "execution_count": null,
   "metadata": {},
   "outputs": [],
   "source": []
  },
  {
   "cell_type": "code",
   "execution_count": 138,
   "metadata": {},
   "outputs": [
    {
     "data": {
      "text/plain": [
       "DecisionTreeClassifier(max_depth=10)"
      ]
     },
     "execution_count": 138,
     "metadata": {},
     "output_type": "execute_result"
    }
   ],
   "source": [
    "tree_clf = DecisionTreeClassifier(max_depth = 10)\n",
    "tree_clf.fit(x, y)"
   ]
  },
  {
   "cell_type": "code",
   "execution_count": 140,
   "metadata": {},
   "outputs": [],
   "source": [
    "export_graphviz(tree_clf, \n",
    "                out_file = \"tree.dot\",\n",
    "               feature_names = keywords,\n",
    "               class_names = [\"not quality improving\", \"quality improving\"],\n",
    "               rounded = True,\n",
    "               filled = True)"
   ]
  },
  {
   "cell_type": "code",
   "execution_count": 121,
   "metadata": {},
   "outputs": [
    {
     "data": {
      "text/plain": [
       "array([0., 0., 0., 0., 0., 0., 0., 0., 0., 0., 0., 0., 0., 0., 0., 0., 0.,\n",
       "       0., 0., 0., 0., 0., 1., 0., 0., 0., 0., 0., 0., 0., 0., 0., 0., 0.,\n",
       "       0., 0., 0., 0., 0., 0., 0., 0., 0., 1., 0., 0., 0., 0., 0., 0., 0.,\n",
       "       1., 0., 1., 0., 0., 0., 0., 0., 0., 0., 0., 0., 0., 0., 0., 0., 0.,\n",
       "       0.])"
      ]
     },
     "execution_count": 121,
     "metadata": {},
     "output_type": "execute_result"
    }
   ],
   "source": [
    "x[0]"
   ]
  },
  {
   "cell_type": "code",
   "execution_count": 123,
   "metadata": {},
   "outputs": [
    {
     "data": {
      "text/plain": [
       "array([[0., 1.]])"
      ]
     },
     "execution_count": 123,
     "metadata": {},
     "output_type": "execute_result"
    }
   ],
   "source": [
    "tree_clf.predict_proba([x[0]])"
   ]
  },
  {
   "cell_type": "code",
   "execution_count": 124,
   "metadata": {},
   "outputs": [
    {
     "data": {
      "text/plain": [
       "['sepal length (cm)',\n",
       " 'sepal width (cm)',\n",
       " 'petal length (cm)',\n",
       " 'petal width (cm)']"
      ]
     },
     "execution_count": 124,
     "metadata": {},
     "output_type": "execute_result"
    }
   ],
   "source": [
    "iris.feature_names"
   ]
  },
  {
   "cell_type": "code",
   "execution_count": 93,
   "metadata": {},
   "outputs": [],
   "source": [
    "#Determine the number of keywords, which gives the best performance "
   ]
  },
  {
   "cell_type": "code",
   "execution_count": 117,
   "metadata": {},
   "outputs": [],
   "source": [
    "n_keywords = np.linspace(1, min(len(eff_words_quality), len(eff_words_not_quality))/10, 20, dtype = 'int')\n",
    "acc = np.zeros(len(n_keywords))"
   ]
  },
  {
   "cell_type": "code",
   "execution_count": 118,
   "metadata": {},
   "outputs": [],
   "source": [
    "for i in range(len(n_keywords)):\n",
    "    keywords = find_keywords(eff_words_quality, eff_words_not_quality, n_keywords[i])\n",
    "    frq_quality = np.zeros(len(keywords))\n",
    "    frq_not_quality = np.zeros(len(keywords))\n",
    "    for j in range(len(keywords)):\n",
    "        frq_quality[j] = count_frequency(keywords[j], eff_words_quality)\n",
    "        frq_not_quality[j] = count_frequency(keywords[j], eff_words_not_quality)\n",
    "    n_corr = 0.0\n",
    "    for k in range(len(index_quality_test)):\n",
    "        message_test = commits_quality_all[index_quality_test[k]]\n",
    "        if test(message_test, keywords, frq_quality, frq_not_quality):\n",
    "            n_corr = n_corr + 1\n",
    "    for l in range(len(index_not_quality_test)):\n",
    "        message_test = commits_not_quality_all[index_not_quality_test[l]]\n",
    "        if not test(message_test, keywords, frq_quality, frq_not_quality):\n",
    "            n_corr = n_corr + 1\n",
    "    acc[i] = n_corr / (len(index_quality_test) + len(index_not_quality_test))   "
   ]
  },
  {
   "cell_type": "code",
   "execution_count": 119,
   "metadata": {
    "scrolled": true
   },
   "outputs": [
    {
     "data": {
      "text/plain": [
       "'\\nx = np.arange(len(keywords))\\nwidth = 0.35\\n\\nfig, ax = plt.subplots()\\nax.bar(x - width/2, frq_quality, width, label = \"quality\")\\nax.bar(x + width/2, frq_not_quality, width, label = \"not quality\")\\nax.set_xticks(x)\\nax.set_xticklabels(keywords)\\nax.legend()\\nplt.show()\\n'"
      ]
     },
     "execution_count": 119,
     "metadata": {},
     "output_type": "execute_result"
    }
   ],
   "source": []
  },
  {
   "cell_type": "code",
   "execution_count": 123,
   "metadata": {},
   "outputs": [
    {
     "data": {
      "text/plain": [
       "array([0.67805295, 0.61357814, 0.64560205, 0.63620837, 0.63407344,\n",
       "       0.6323655 , 0.6323655 , 0.63364646, 0.63919727, 0.63791631,\n",
       "       0.63706234, 0.63706234, 0.63663535, 0.63919727, 0.63962425,\n",
       "       0.63962425, 0.64047822, 0.64047822, 0.64133219, 0.64133219])"
      ]
     },
     "execution_count": 123,
     "metadata": {},
     "output_type": "execute_result"
    }
   ],
   "source": [
    "acc"
   ]
  },
  {
   "cell_type": "code",
   "execution_count": 124,
   "metadata": {},
   "outputs": [
    {
     "data": {
      "text/plain": [
       "array([ 1,  3,  6,  9, 12, 15, 17, 20, 23, 26, 29, 31, 34, 37, 40, 43, 46,\n",
       "       48, 51, 54])"
      ]
     },
     "execution_count": 124,
     "metadata": {},
     "output_type": "execute_result"
    }
   ],
   "source": [
    "n_keywords"
   ]
  },
  {
   "cell_type": "code",
   "execution_count": 125,
   "metadata": {},
   "outputs": [
    {
     "data": {
      "text/plain": [
       "Text(0, 0.5, 'accuracy')"
      ]
     },
     "execution_count": 125,
     "metadata": {},
     "output_type": "execute_result"
    },
    {
     "data": {
      "image/png": "[encoded data removed]",
      "text/plain": [
       "<Figure size 1080x720 with 1 Axes>"
      ]
     },
     "metadata": {
      "needs_background": "light"
     },
     "output_type": "display_data"
    }
   ],
   "source": [
    "fig, ax = plt.subplots()\n",
    "ax.plot(n_keywords, acc)\n",
    "ax.set_ylim(0,1)\n",
    "ax.set_xlabel(\"number of keywords\")\n",
    "ax.set_ylabel(\"accuracy\")"
   ]
  },
  {
   "cell_type": "code",
   "execution_count": 127,
   "metadata": {},
   "outputs": [],
   "source": [
    "#demonstrate example with n_kwds"
   ]
  },
  {
   "cell_type": "code",
   "execution_count": 136,
   "metadata": {},
   "outputs": [],
   "source": [
    "n_kwds = 10"
   ]
  },
  {
   "cell_type": "code",
   "execution_count": 137,
   "metadata": {},
   "outputs": [
    {
     "data": {
      "image/png": "[encoded data removed]",
      "text/plain": [
       "<Figure size 1080x720 with 1 Axes>"
      ]
     },
     "metadata": {
      "needs_background": "light"
     },
     "output_type": "display_data"
    }
   ],
   "source": [
    "keywords = find_keywords(eff_words_quality, eff_words_not_quality, n_kwds)\n",
    "frq_quality = np.zeros(len(keywords))\n",
    "frq_not_quality = np.zeros(len(keywords))\n",
    "for j in range(len(keywords)):\n",
    "    frq_quality[j] = count_frequency(keywords[j], eff_words_quality)\n",
    "    frq_not_quality[j] = count_frequency(keywords[j], eff_words_not_quality)\n",
    "\n",
    "x = np.arange(len(keywords))\n",
    "width = 0.35\n",
    "\n",
    "fig, ax = plt.subplots()\n",
    "ax.bar(x - width/2, frq_quality, width, label = \"quality\")\n",
    "ax.bar(x + width/2, frq_not_quality, width, label = \"not quality\")\n",
    "ax.set_xticks(x)\n",
    "ax.set_xticklabels(keywords)\n",
    "ax.legend()\n",
    "plt.show()"
   ]
  },
  {
   "cell_type": "code",
   "execution_count": 138,
   "metadata": {},
   "outputs": [],
   "source": [
    "#Anforderungen für Modell Einsatz:\n",
    "#1. Die Commits sollen kurz angefasst werden. Damit erleichtet die Suche nach Stichwort.\n",
    "#  \n",
    "#2. "
   ]
  },
  {
   "cell_type": "code",
   "execution_count": null,
   "metadata": {},
   "outputs": [],
   "source": [
    "#Verbesserungsmöglichkeiten:\n",
    "#1. Die Commits, die als Probe gewählt wurden, könnten weiter analysiert werden.\n",
    "#2. Es könnte mehrmals durchlaufen lassen, für features extraction\n",
    "#3. "
   ]
  }
 ],
 "metadata": {
  "kernelspec": {
   "display_name": "Python 3",
   "language": "python",
   "name": "python3"
  },
  "language_info": {
   "codemirror_mode": {
    "name": "ipython",
    "version": 3
   },
   "file_extension": ".py",
   "mimetype": "text/x-python",
   "name": "python",
   "nbconvert_exporter": "python",
   "pygments_lexer": "ipython3",
   "version": "3.8.5"
  }
 },
 "nbformat": 4,
 "nbformat_minor": 5
}
