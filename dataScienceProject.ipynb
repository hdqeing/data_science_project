{
 "cells": [
  {
   "cell_type": "code",
   "execution_count": 83,
   "metadata": {},
   "outputs": [],
   "source": [
    "import csv\n",
    "import collections\n",
    "import itertools\n",
    "import matplotlib.pyplot as plt\n",
    "import numpy as np\n",
    "plt.rcParams['figure.figsize'] = [15, 10]"
   ]
  },
  {
   "cell_type": "code",
   "execution_count": 2,
   "metadata": {
    "scrolled": true
   },
   "outputs": [],
   "source": [
    "#load in data and distribute marked commits into to lists"
   ]
  },
  {
   "cell_type": "code",
   "execution_count": 3,
   "metadata": {},
   "outputs": [],
   "source": [
    "commits_quality = []\n",
    "index_quality = []"
   ]
  },
  {
   "cell_type": "code",
   "execution_count": 4,
   "metadata": {},
   "outputs": [],
   "source": [
    "commits_not_quality = []\n",
    "index_not_quality = []"
   ]
  },
  {
   "cell_type": "code",
   "execution_count": 5,
   "metadata": {},
   "outputs": [],
   "source": [
    "with open(\"output_320000.csv\") as f:\n",
    "    reader = csv.reader(f)\n",
    "    for row in reader:\n",
    "        if (row[-1] == 'False'):\n",
    "            commits_quality.append(row[1])\n",
    "            index_quality.append(row[0])\n",
    "        if (row[-1] == 'True'):\n",
    "            commits_not_quality.append(row[1])\n",
    "            index_not_quality.append(row[0])"
   ]
  },
  {
   "cell_type": "code",
   "execution_count": 6,
   "metadata": {},
   "outputs": [],
   "source": [
    "words_quality = list(itertools.chain(*[commit.split() for commit in commits_quality]))"
   ]
  },
  {
   "cell_type": "code",
   "execution_count": 7,
   "metadata": {},
   "outputs": [],
   "source": [
    "words_not_quality = list(itertools.chain(*[commit.split() for commit in commits_not_quality]))"
   ]
  },
  {
   "cell_type": "code",
   "execution_count": 8,
   "metadata": {},
   "outputs": [],
   "source": [
    "small_words = ['the', 'a', 'an',\n",
    "               'for', 'in', 'on', 'into', 'from', 'to', 'with', 'via',\n",
    "               'and', 'or', 'not',\n",
    "               'when', 'what', 'which', \n",
    "               'that', 'this', \n",
    "               '###', \n",
    "               'should', 'can', 'could', 'will',\n",
    "               'is', 'are', 'was', 'were', 'have', \n",
    "               'does', 'did', 'do', \n",
    "               'now', 'also', 'more', 'some', 'all']"
   ]
  },
  {
   "cell_type": "code",
   "execution_count": 9,
   "metadata": {},
   "outputs": [],
   "source": [
    "counter1 = collections.Counter([e.lower() for e in words_quality if e.lower() not in small_words and len(e) > 2 and len(e) < 10])"
   ]
  },
  {
   "cell_type": "code",
   "execution_count": 10,
   "metadata": {},
   "outputs": [],
   "source": [
    "counter2 = collections.Counter([e.lower() for e in words_not_quality if e.lower() not in small_words and len(e) > 2 and len(e) < 10])"
   ]
  },
  {
   "cell_type": "code",
   "execution_count": 11,
   "metadata": {},
   "outputs": [],
   "source": [
    "n_keywords = 20"
   ]
  },
  {
   "cell_type": "code",
   "execution_count": 90,
   "metadata": {},
   "outputs": [],
   "source": [
    "occ1 = counter1.most_common(n_keywords)\n",
    "occ2 = counter2.most_common(n_keywords)"
   ]
  },
  {
   "cell_type": "code",
   "execution_count": 91,
   "metadata": {},
   "outputs": [],
   "source": [
    "keyword1 = [tupel[0] for tupel in occ1]\n",
    "keyword2 = [tupel[0] for tupel in occ2]"
   ]
  },
  {
   "cell_type": "code",
   "execution_count": 99,
   "metadata": {},
   "outputs": [],
   "source": [
    "def find_conjugation(words):\n",
    "    for i in range(len(words)):\n",
    "        for j in range(i, len(words)):\n",
    "            if words[j] == words[i] + \"ed\" \\\n",
    "            or words[j] == words[i] + \"d\" \\\n",
    "            or words[j] == words[i] + \"s\" \\\n",
    "            or words[j] == words[i] + \"es\" \\\n",
    "            or words[j] == words[i] + \"ing\"\\\n",
    "            or words[j] == words[i][:-1] + \"ing\":\n",
    "                words[j] = words[i]"
   ]
  },
  {
   "cell_type": "code",
   "execution_count": 100,
   "metadata": {},
   "outputs": [],
   "source": [
    "find_conjugation(keyword1)\n",
    "find_conjugation(keyword2)"
   ]
  },
  {
   "cell_type": "code",
   "execution_count": 106,
   "metadata": {},
   "outputs": [],
   "source": [
    "def count_frequency(words, counter):\n",
    "    keywords = list(set(words))\n",
    "    occurrence = np.zeros(len(keywords))\n",
    "    for i in range(len(keywords)):\n",
    "        for j in range(len(words)):\n",
    "            if words[j] == keywords[i]:\n",
    "                occurrence[i] = occurrence[i] + counter[j][1]\n",
    "    return keywords, occurrence"
   ]
  },
  {
   "cell_type": "code",
   "execution_count": 108,
   "metadata": {},
   "outputs": [],
   "source": [
    "keywords_quality, occ_quality = count_frequency(keyword1, occ1)"
   ]
  },
  {
   "cell_type": "code",
   "execution_count": 111,
   "metadata": {},
   "outputs": [],
   "source": [
    "keywords_not_quality, occ_not_quality = count_frequency(keyword2, occ2)"
   ]
  },
  {
   "cell_type": "code",
   "execution_count": 113,
   "metadata": {},
   "outputs": [
    {
     "data": {
      "text/plain": [
       "['use',\n",
       " 'unused',\n",
       " 'test',\n",
       " 'javadoc',\n",
       " 'java',\n",
       " 'fix',\n",
       " 'class',\n",
       " 'minor',\n",
       " 'code',\n",
       " 'method',\n",
       " 'new',\n",
       " 'add',\n",
       " 'remove',\n",
       " 'moved',\n",
       " 'make']"
      ]
     },
     "execution_count": 113,
     "metadata": {},
     "output_type": "execute_result"
    }
   ],
   "source": [
    "keywords_not_quality"
   ]
  },
  {
   "cell_type": "code",
   "execution_count": 115,
   "metadata": {},
   "outputs": [],
   "source": [
    "keywords = list(set(keywords_quality + keywords_not_quality))"
   ]
  },
  {
   "cell_type": "code",
   "execution_count": 119,
   "metadata": {},
   "outputs": [],
   "source": [
    "frq_quality = np.zeros(len(keywords))\n",
    "frq_not_quality = np.zeros(len(keywords))"
   ]
  },
  {
   "cell_type": "code",
   "execution_count": 120,
   "metadata": {},
   "outputs": [],
   "source": [
    "for i in range(len(keywords)):\n",
    "    if keywords[i] in keywords_quality:\n",
    "        frq_quality[i] = occ_quality[keywords_quality.index(keywords[i])]\n",
    "    if keywords[i] in keywords_not_quality:\n",
    "        frq_not_quality[i] = occ_not_quality[keywords_not_quality.index(keywords[i])]"
   ]
  },
  {
   "cell_type": "code",
   "execution_count": 121,
   "metadata": {},
   "outputs": [
    {
     "data": {
      "text/plain": [
       "array([  0.,  68.,   0.,   0.,  46., 412.,   0., 125., 134.,  60.,  79.,\n",
       "        45.,  50.,   0., 133.,  52.,   0.,   0., 333.,   0.,  51.,  51.,\n",
       "        84.])"
      ]
     },
     "execution_count": 121,
     "metadata": {},
     "output_type": "execute_result"
    }
   ],
   "source": [
    "frq_quality"
   ]
  },
  {
   "cell_type": "code",
   "execution_count": 122,
   "metadata": {},
   "outputs": [
    {
     "data": {
      "text/plain": [
       "array([ 83.,   0.,  23.,  55.,   0.,  93., 155.,   0.,  26.,   0.,   0.,\n",
       "        64.,   0.,  27.,  62.,   0.,  28.,  34., 108.,  24.,   0.,  71.,\n",
       "        27.])"
      ]
     },
     "execution_count": 122,
     "metadata": {},
     "output_type": "execute_result"
    }
   ],
   "source": [
    "frq_not_quality"
   ]
  },
  {
   "cell_type": "code",
   "execution_count": 124,
   "metadata": {
    "scrolled": true
   },
   "outputs": [
    {
     "data": {
      "image/png": "[encoded data removed]",
      "text/plain": [
       "<Figure size 1080x720 with 1 Axes>"
      ]
     },
     "metadata": {
      "needs_background": "light"
     },
     "output_type": "display_data"
    }
   ],
   "source": [
    "x = np.arange(len(keywords))\n",
    "width = 0.35\n",
    "\n",
    "fig, ax = plt.subplots()\n",
    "ax.bar(x - width/2, frq_quality, width, label = \"quality\")\n",
    "ax.bar(x + width/2, frq_not_quality, width, label = \"not quality\")\n",
    "ax.set_xticks(x)\n",
    "ax.set_xticklabels(keywords)\n",
    "ax.legend()\n",
    "plt.show()"
   ]
  },
  {
   "cell_type": "code",
   "execution_count": null,
   "metadata": {},
   "outputs": [],
   "source": []
  },
  {
   "cell_type": "code",
   "execution_count": null,
   "metadata": {},
   "outputs": [],
   "source": []
  }
 ],
 "metadata": {
  "kernelspec": {
   "display_name": "Python 3",
   "language": "python",
   "name": "python3"
  },
  "language_info": {
   "codemirror_mode": {
    "name": "ipython",
    "version": 3
   },
   "file_extension": ".py",
   "mimetype": "text/x-python",
   "name": "python",
   "nbconvert_exporter": "python",
   "pygments_lexer": "ipython3",
   "version": "3.8.5"
  }
 },
 "nbformat": 4,
 "nbformat_minor": 5
}
